{
 "cells": [
  {
   "cell_type": "code",
   "execution_count": 150,
   "metadata": {},
   "outputs": [],
   "source": [
    "import numpy as np\n",
    "import pandas as pd\n",
    "import math\n",
    "import matplotlib.pyplot as plt"
   ]
  },
  {
   "cell_type": "markdown",
   "metadata": {},
   "source": [
    "# Q1(a)"
   ]
  },
  {
   "cell_type": "code",
   "execution_count": 335,
   "metadata": {},
   "outputs": [],
   "source": [
    "from sklearn import datasets\n",
    "iris = datasets.load_iris()\n",
    "index = np.argwhere(iris['target']==2).reshape((1,50))"
   ]
  },
  {
   "cell_type": "code",
   "execution_count": 336,
   "metadata": {},
   "outputs": [],
   "source": [
    "def normpdf(x, mean, sd):\n",
    "    var = float(sd)**2\n",
    "    denom = (2*math.pi*var)**.5\n",
    "    num = math.exp(-(float(x)-float(mean))**2/(2*var))\n",
    "    return num/denom\n",
    "\n",
    "def naive_bayes(data,target):\n",
    "    model = dict()\n",
    "    target_values = np.unique(target)\n",
    "    #r,c = data.shape\n",
    "    for i in range (0,len(target_values)):\n",
    "        indices = np.argwhere(target==target_values[i]).reshape((1,-1))\n",
    "        mini_data = data[indices,:][0]\n",
    "        _,c = mini_data.shape\n",
    "        \n",
    "        for j in range(0,c):\n",
    "            feature_samples = mini_data[:,j]\n",
    "            mean = np.mean(feature_samples)\n",
    "            std = np.std(feature_samples)\n",
    "            model[str(j+1)+str(i+1)] = (mean,std)\n",
    "        model[str(i+1)] = len(indices)/len(target)\n",
    "    \n",
    "    return model\n",
    "\n",
    "def predict(test_data,target_names,model):\n",
    "    r,c = test_data.shape\n",
    "    answer = np.zeros((1,r))\n",
    "    \n",
    "    for i in range (0,r):\n",
    "        probabilities=[]\n",
    "        for j in range(0,len(target_names)):\n",
    "            product = 1\n",
    "            for k in range(0,c):\n",
    "                mean,std = model[str(k+1)+str(j+1)]\n",
    "                product = product*normpdf(test_data[i,k],mean,std)\n",
    "            product = product*model[str(j+1)]\n",
    "            probabilities.append(product)\n",
    "        answer[0,i] = int(probabilities.index(max(probabilities)))\n",
    "            \n",
    "    return answer       \n",
    "        "
   ]
  },
  {
   "cell_type": "code",
   "execution_count": 337,
   "metadata": {},
   "outputs": [
    {
     "data": {
      "text/plain": [
       "0.0"
      ]
     },
     "execution_count": 337,
     "metadata": {},
     "output_type": "execute_result"
    }
   ],
   "source": [
    "from sklearn.model_selection import train_test_split\n",
    "from sklearn.metrics import mean_squared_error\n",
    "from sklearn.metrics import accuracy_score\n",
    "train_X,test_X,train_Y,test_Y = train_test_split(iris['data'][:,[0,3]],iris['target'],test_size=0.3,random_state = 42)\n",
    "target_names = np.unique(train_Y)\n",
    "model = naive_bayes(train_X,train_Y)\n",
    "predictions = predict(test_X,target_names,model)\n",
    "mean_squared_error(test_Y.reshape((1,45)),predictions)"
   ]
  },
  {
   "cell_type": "markdown",
   "metadata": {},
   "source": [
    "# Q1(b)"
   ]
  },
  {
   "cell_type": "code",
   "execution_count": 338,
   "metadata": {},
   "outputs": [],
   "source": [
    "train_X,pool_X,train_Y,pool_Y = train_test_split(train_X,train_Y,test_size=0.85,random_state = 42)"
   ]
  },
  {
   "cell_type": "code",
   "execution_count": 340,
   "metadata": {},
   "outputs": [
    {
     "name": "stdout",
     "output_type": "stream",
     "text": [
      "82.2222222222\n",
      "82.2222222222\n",
      "82.2222222222\n",
      "84.4444444444\n",
      "84.4444444444\n",
      "84.4444444444\n",
      "84.4444444444\n",
      "84.4444444444\n",
      "84.4444444444\n",
      "84.4444444444\n"
     ]
    }
   ],
   "source": [
    "iterations = 10\n",
    "\n",
    "def least_confidence(test_data,target_names,model):\n",
    "    r,c = test_data.shape\n",
    "    answer = np.zeros((1,r))\n",
    "    \n",
    "    for i in range (0,r):\n",
    "        probabilities=[]\n",
    "        for j in range(0,len(target_names)):\n",
    "            product = 1\n",
    "            for k in range(0,c):\n",
    "                mean,std = model[str(k+1)+str(j+1)]\n",
    "                product = product*normpdf(test_data[i,k],mean,std)\n",
    "            product = product*model[str(j+1)]\n",
    "            probabilities.append(product)\n",
    "        answer[0,i] = max(probabilities)\n",
    "    return answer.argmin()        \n",
    "      \n",
    "\n",
    "for i in range (0,iterations):\n",
    "    model = naive_bayes(train_X,train_Y)\n",
    "    least_prob_index = least_confidence(pool_X,target_names,model)\n",
    "    #print(pool_X[least_prob_index,:].shape)\n",
    "    prediction =predict(pool_X[least_prob_index,:].reshape((1,-1)),target_names,model)\n",
    "    train_X = np.concatenate((train_X,pool_X[least_prob_index,:].reshape((1,2))),axis=0)\n",
    "    train_Y = np.concatenate((train_Y.reshape((1,-1)),prediction),axis=1)\n",
    "    pool_X = np.delete(pool_X,least_prob_index,0)\n",
    "    test_predictions = predict(test_X,target_names,model)\n",
    "    test_Y = test_Y.reshape((-1,1))\n",
    "    test_predictions = test_predictions.reshape((-1,1))\n",
    "    print(accuracy_score(test_Y,test_predictions)*100)"
   ]
  },
  {
   "cell_type": "code",
   "execution_count": 341,
   "metadata": {},
   "outputs": [
    {
     "data": {
      "text/plain": [
       "(78, 2)"
      ]
     },
     "execution_count": 341,
     "metadata": {},
     "output_type": "execute_result"
    }
   ],
   "source": [
    "iterations = 45 \n",
    "train_X,test_X,train_Y,test_Y = train_test_split(iris['data'][:,[0,3]],iris['target'],test_size=0.35,random_state = 91)\n",
    "train_X,pool_X,train_Y,pool_Y = train_test_split(train_X,train_Y,test_size=0.8,random_state = 69)\n",
    "pool_X.shape"
   ]
  },
  {
   "cell_type": "code",
   "execution_count": 342,
   "metadata": {},
   "outputs": [
    {
     "data": {
      "text/html": [
       "<img src=\"gif.gif\"/>"
      ],
      "text/plain": [
       "<IPython.core.display.Image object>"
      ]
     },
     "execution_count": 342,
     "metadata": {},
     "output_type": "execute_result"
    },
    {
     "data": {
      "image/png": "[encoded data removed]",
      "text/plain": [
       "<matplotlib.figure.Figure at 0x7fb7eb34c438>"
      ]
     },
     "metadata": {
      "needs_background": "light"
     },
     "output_type": "display_data"
    }
   ],
   "source": [
    "x_min, x_max = iris['data'][:,0].min() - .5, iris['data'][:,0].max() + .5\n",
    "y_min ,y_max = iris['data'][:,3].min() - .5, iris['data'][:,3].max() + .5\n",
    "h = 0.1\n",
    "x1,x2= np.meshgrid(np.arange(x_min, x_max, h), np.arange(y_min, y_max, h))\n",
    "\n",
    "for i in range (0,iterations):\n",
    "    plt.gcf().clear()\n",
    "    model = naive_bayes(train_X,train_Y)\n",
    "    least_prob_index = least_confidence(pool_X,target_names,model)\n",
    "    prediction =predict(pool_X[least_prob_index,:].reshape((1,-1)),target_names,model)\n",
    "    train_X = np.concatenate((train_X,pool_X[least_prob_index,:].reshape((1,2))),axis=0)\n",
    "    train_Y = np.concatenate((train_Y.reshape((1,-1)),prediction),axis=1)\n",
    "    pool_X = np.delete(pool_X,least_prob_index,0)\n",
    "    test_predictions = predict(test_X,target_names,model)\n",
    "    test_Y = test_Y.reshape((-1,1))\n",
    "    pool_predictions = predict(pool_X,target_names,model)\n",
    "    Z = predict(np.c_[x1.ravel(), x2.ravel()],target_names,model)\n",
    "    Z = Z.reshape(x1.shape)\n",
    "    #Y = np.concatenate(train_Y.reshape((-1,1)),pool_predictions.reshape((-1,1)),axis=0)\n",
    "    #Y = np.concatenate(Y,test_predictions.reshape((-1,1)),axis=0)\n",
    "    #X = np.concatenate(train_X,pool_X,axis=0)\n",
    "    #X = np.concatenate(X,test_X,axis=0)\n",
    "    plt.scatter(iris['data'][:,0], iris['data'][:,3], c= iris['target'], alpha=0.7, cmap=plt.cm.Paired, edgecolors='grey', s=50 )\n",
    "    #plt.scatter(dataset_train['x'], dataset_train['y'], c= dataset_train['class'], \n",
    "            #edgecolors='k', s=300, cmap=plt.cm.Paired )\n",
    "    plt.pcolormesh(x1, x2, Z, cmap=plt.cm.Paired, alpha=0.3)\n",
    "    plt.xlabel('sepal length')\n",
    "    plt.ylabel('petal width')\n",
    "    plt.title('iteration number' + str(i+1))\n",
    "    filename=str(format(i+1, '03d'))+'.png'\n",
    "    plt.savefig(filename, dpi=96)\n",
    "    plt.gca()\n",
    "! convert -delay 100 *.png gif.gif\n",
    "from IPython.display import Image\n",
    "Image(url='gif.gif')"
   ]
  },
  {
   "cell_type": "code",
   "execution_count": 294,
   "metadata": {},
   "outputs": [
    {
     "data": {
      "text/plain": [
       "array([ 98.11320755,  86.79245283,  86.79245283,  88.67924528,\n",
       "        88.67924528,  88.67924528,  88.67924528,  88.67924528,\n",
       "        88.67924528,  88.67924528,  88.67924528,  88.67924528,\n",
       "        88.67924528,  88.67924528,  88.67924528,  88.67924528,\n",
       "        88.67924528,  88.67924528,  88.67924528,  88.67924528])"
      ]
     },
     "execution_count": 294,
     "metadata": {},
     "output_type": "execute_result"
    }
   ],
   "source": [
    "iterations = 20\n",
    "train_X,test_X,train_Y,test_Y = train_test_split(iris['data'][:,[0,3]],iris['target'],test_size=0.35,random_state = 42)\n",
    "train_X,pool_X,train_Y,pool_Y = train_test_split(train_X,train_Y,test_size=0.8,random_state = 42)\n",
    "\n",
    "least_confidence_accuracies = np.zeros((1,iterations))\n",
    "for i in range (0,iterations):\n",
    "    model = naive_bayes(train_X,train_Y)\n",
    "    least_prob_index = least_confidence(pool_X,target_names,model)\n",
    "    #print(pool_X[least_prob_index,:].shape)\n",
    "    prediction =predict(pool_X[least_prob_index,:].reshape((1,-1)),target_names,model)\n",
    "    train_X = np.concatenate((train_X,pool_X[least_prob_index,:].reshape((1,2))),axis=0)\n",
    "    train_Y = np.concatenate((train_Y.reshape((1,-1)),prediction),axis=1)\n",
    "    pool_X = np.delete(pool_X,least_prob_index,0)\n",
    "    test_predictions = predict(test_X,target_names,model)\n",
    "    test_Y = test_Y.reshape((-1,1))\n",
    "    test_predictions = test_predictions.reshape((-1,1))\n",
    "    least_confidence_accuracies[0,i] = accuracy_score(test_Y,test_predictions)*100\n",
    "\n",
    "least_confidence_accuracies[0]"
   ]
  },
  {
   "cell_type": "code",
   "execution_count": 279,
   "metadata": {},
   "outputs": [],
   "source": [
    "iterations = 20\n",
    "random_test_accuracies = np.zeros((5,iterations))\n",
    "\n",
    "for p in range(0,5):\n",
    "    train_X,test_X,train_Y,test_Y = train_test_split(iris['data'][:,[0,3]],iris['target'],test_size=0.35,random_state = 42)\n",
    "    train_X,pool_X,train_Y,pool_Y = train_test_split(train_X,train_Y,test_size=0.8,random_state = 42)\n",
    "    random.seed(p)\n",
    "\n",
    "    for i in range (0,iterations):\n",
    "        model = naive_bayes(train_X,train_Y)\n",
    "        random_index = random.choice(range(len(pool_X)))\n",
    "        prediction =predict(pool_X[random_index,:].reshape((1,-1)),target_names,model)\n",
    "        train_X = np.concatenate((train_X,pool_X[random_index,:].reshape((1,-1))),axis=0)\n",
    "        train_Y = np.concatenate((train_Y.reshape((1,-1)),prediction),axis=1)\n",
    "        pool_X = np.delete(pool_X,random_index,0)\n",
    "        test_predictions = predict(test_X,target_names,model)\n",
    "        test_Y = test_Y.reshape((-1,1))\n",
    "        test_predictions = test_predictions.reshape((-1,1))\n",
    "        random_test_accuracies[p,i] = accuracy_score(test_Y,test_predictions)*100\n",
    "\n",
    "\n"
   ]
  },
  {
   "cell_type": "code",
   "execution_count": 323,
   "metadata": {},
   "outputs": [
    {
     "data": {
      "image/png": "[encoded data removed]",
      "text/plain": [
       "<matplotlib.figure.Figure at 0x7fb7ea391cf8>"
      ]
     },
     "metadata": {
      "needs_background": "light"
     },
     "output_type": "display_data"
    }
   ],
   "source": [
    "plt.plot(range(iterations),least_confidence_accuracies[0,:],'-')\n",
    "plt.errorbar(range(iterations),np.mean(random_test_accuracies,axis=0),np.std(random_test_accuracies,axis=0))\n",
    "plt.title('comparision between random sampling and least confidence')\n",
    "plt.legend([\"least confidence\",\"random sampling\"])\n",
    "plt.show()"
   ]
  },
  {
   "cell_type": "markdown",
   "metadata": {},
   "source": [
    "As seen from the graph above, the least_confidence method works smart as compared to that of the random sampling method by choosing the query through the least_confidence approach "
   ]
  }
 ],
 "metadata": {
  "kernelspec": {
   "display_name": "Python 3",
   "language": "python",
   "name": "python3"
  },
  "language_info": {
   "codemirror_mode": {
    "name": "ipython",
    "version": 3
   },
   "file_extension": ".py",
   "mimetype": "text/x-python",
   "name": "python",
   "nbconvert_exporter": "python",
   "pygments_lexer": "ipython3",
   "version": "3.6.7"
  }
 },
 "nbformat": 4,
 "nbformat_minor": 2
}
