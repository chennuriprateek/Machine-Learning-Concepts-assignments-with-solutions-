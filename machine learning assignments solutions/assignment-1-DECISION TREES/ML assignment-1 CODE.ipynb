{
 "cells": [
  {
   "cell_type": "code",
   "execution_count": 1,
   "metadata": {},
   "outputs": [],
   "source": [
    "import numpy as np\n",
    "import pandas as pd\n",
    "import math\n",
    "import time\n",
    "import random\n",
    "import matplotlib.pyplot as plt"
   ]
  },
  {
   "cell_type": "markdown",
   "metadata": {},
   "source": [
    "# Q2(a)"
   ]
  },
  {
   "cell_type": "code",
   "execution_count": 2,
   "metadata": {},
   "outputs": [],
   "source": [
    "def entropy(data,main_data):  \n",
    "    dcol=main_data.columns\n",
    "    condition=data[data.columns[-1]]\n",
    "    md_lc=main_data[main_data.columns[-1]]\n",
    "    r=len(condition)\n",
    "    condition_unique=pd.unique(md_lc)\n",
    "    l=len(condition_unique)\n",
    "    ans=0\n",
    "    for i in range (0,l):\n",
    "        g=condition[condition==condition_unique[i]]\n",
    "        row=len(g)\n",
    "        if row==0:\n",
    "            e=0\n",
    "        else:\n",
    "            e=-(row/r)* math.log((row/r),2)\n",
    "        ans=ans+e\n",
    "    return ans\n",
    "\n",
    "def best_split(data,main_data):  ## continuous features and discrete output\n",
    "    r,_=data.shape\n",
    "    dcol=data.columns\n",
    "    bs_ec=[]\n",
    "    max_infg_ec=[]\n",
    "    condition_unique=pd.unique(main_data[dcol[-1]])\n",
    "    array=[]\n",
    "    for i in range (0,len(condition_unique)):\n",
    "        rows,_=data[data[dcol[-1]]==condition_unique[i]].shape\n",
    "        array.append(rows)\n",
    "    zeros=0\n",
    "    for i in range (0,len(array)):\n",
    "        if array[i]==0:\n",
    "            zeros=zeros+1\n",
    "    \n",
    "    if zeros!=len(array)-1:\n",
    "        for i in range (0,len(dcol)-1):\n",
    "            data_coli=data.loc[:,[dcol[i],dcol[-1]]]\n",
    "            data_coli=data_coli.sort_values(dcol[i],ascending=True)\n",
    "            coli_unique=pd.unique(data_coli[dcol[i]])\n",
    "            coli_uni_avg=(coli_unique[1:]+coli_unique[:-1])/2\n",
    "            info_gain=[0]\n",
    "        \n",
    "            for j in range (0,len(coli_uni_avg)):\n",
    "                d1=data_coli[data_coli[dcol[i]]<=coli_uni_avg[j]]\n",
    "                d2=data_coli[data_coli[dcol[i]]>coli_uni_avg[j]]\n",
    "                r1,_=d1.shape\n",
    "                r2,_=d2.shape\n",
    "                infg=entropy(data,main_data)-(r1/r)*entropy(d1,main_data)-(r2/r)*entropy(d2,main_data)\n",
    "                info_gain.append(infg)\n",
    "            \n",
    "            max_infg_index=info_gain.index(max(info_gain))-1\n",
    "            bs_ec.append((dcol[i] ,coli_uni_avg[max_infg_index],array))\n",
    "            max_infg_ec.append(info_gain[max_infg_index])\n",
    "    \n",
    "        max_ind=max_infg_ec.index(max(max_infg_ec))\n",
    "        return bs_ec[max_ind]\n",
    "    \n",
    "    else:\n",
    "        bs_ec.append(('no_split',0,array))\n",
    "        return bs_ec[0]\n",
    "        \n",
    "\n",
    "def tree_learning(data,depth,main_data):\n",
    "        bs=best_split(data,main_data)\n",
    "        t=dict()\n",
    "        if depth>0 and bs[0]!='no_split':\n",
    "            depth=depth-1\n",
    "            ln=data[data[bs[0]]<=bs[1]]\n",
    "            rn=data[data[bs[0]]>bs[1]]\n",
    "            t['l']=tree_learning(ln,depth,main_data)\n",
    "            t['r']=tree_learning(rn,depth,main_data)\n",
    "            return [bs,t]\n",
    "        else:\n",
    "            return [(['no_split'],0,bs[2]),{}]"
   ]
  },
  {
   "cell_type": "code",
   "execution_count": 3,
   "metadata": {},
   "outputs": [],
   "source": [
    "def mse(data):                   ## continuous features and continuous output \n",
    "    c=data[data.columns[-1]]\n",
    "    mean=c.describe()['mean']\n",
    "    r=len(c)\n",
    "    err=0\n",
    "    for i in range (0,r):\n",
    "        w=(mean-c[i])**2\n",
    "        err=err+w\n",
    "    mse=err/r\n",
    "    return mse\n",
    "\n",
    "\n",
    "def best_split_regressor(data,main_data):\n",
    "    r=len(data)\n",
    "    dcol=main_data.columns\n",
    "    bs_ec=[]\n",
    "    min_mse_ec=[]\n",
    "    mean=data[data.columns[-1]].describe()['mean']\n",
    "    \n",
    "    if r>1:    \n",
    "        for i in range (0,len(dcol)-1):\n",
    "            data_coli=data.loc[:,[dcol[i],dcol[-1]]]\n",
    "            data_coli=data_coli.sort_values(dcol[i],ascending=True)\n",
    "            coli_unique=pd.unique(data_coli[dcol[i]])\n",
    "            coli_uni_avg=(coli_unique[1:]+coli_unique[:-1])/2\n",
    "            mean_se=[0]\n",
    "            \n",
    "            for j in range (0,len(coli_uni_avg)):\n",
    "                d1=data_coli[data_coli[dcol[i]]<=coli_uni_avg[j]].reset_index(drop=True)\n",
    "                d2=data_coli[data_coli[dcol[i]]>coli_uni_avg[j]].reset_index(drop=True)\n",
    "                r1=len(d1)\n",
    "                r2=len(d2)\n",
    "                s=mse(d1)+mse(d2)\n",
    "                mean_se.append(s)\n",
    "                \n",
    "            min_mse_index=mean_se.index(min(mean_se))-1\n",
    "            bs_ec.append((dcol[i] ,coli_uni_avg[min_mse_index],mean))\n",
    "            min_mse_ec.append(mean_se[min_mse_index])\n",
    "    \n",
    "        min_ind=min_mse_ec.index(min(min_mse_ec))\n",
    "        return bs_ec[min_ind]\n",
    "                \n",
    "    else:\n",
    "        bs_ec.append(('no_split',0,mean))\n",
    "        return bs_ec[0]\n",
    "\n",
    "\n",
    "def tree_learning_regressor(data,depth,main_data):\n",
    "        bs=best_split_regressor(data,main_data)\n",
    "        t=dict()\n",
    "        if depth>0 and bs[0]!='no_split':\n",
    "            depth=depth-1\n",
    "            ln=data[data[bs[0]]<=bs[1]].reset_index(drop=True)\n",
    "            rn=data[data[bs[0]]>bs[1]].reset_index(drop=True)\n",
    "            t['l']=tree_learning_regressor(ln,depth,main_data)\n",
    "            t['r']=tree_learning_regressor(rn,depth,main_data)\n",
    "            return [bs,t]\n",
    "        else:\n",
    "            return [(['no_split'],0,bs[2]),{}]\n",
    "        "
   ]
  },
  {
   "cell_type": "markdown",
   "metadata": {},
   "source": [
    "# Q2(b)"
   ]
  },
  {
   "cell_type": "code",
   "execution_count": 4,
   "metadata": {},
   "outputs": [],
   "source": [
    "def testing(test_row,model):\n",
    "    a=model[0]\n",
    "    dic=model[1]\n",
    "    if a[0]== ['no_split']:\n",
    "        return a[2].index(max(a[2]))\n",
    "    else:\n",
    "        if test_row[a[0]]<a[1]:\n",
    "            return testing(test_row,dic['l'])\n",
    "        else :\n",
    "            return testing(test_row,dic['r'])\n",
    "\n",
    "def prediction(test_data,model):\n",
    "    r=len(test_data)\n",
    "    predictions=[]\n",
    "    for i in range (0,r):\n",
    "        test_row=test_data.iloc[i]       \n",
    "        pred=testing(test_row,model)\n",
    "        predictions.append(pred)\n",
    "    return predictions\n",
    "\n",
    "def accuracy (test_data,predictions,train_data):\n",
    "    c=0\n",
    "    ic=0\n",
    "    dcol=test_data.columns\n",
    "    r,_=test_data.shape\n",
    "    gt=test_data[test_data.columns[-1]]\n",
    "    #analog=['Iris-setosa','Iris-versicolor','Iris-virginica']\n",
    "    analog=pd.unique(train_data['iris'])\n",
    "    for i in range (0,r):\n",
    "        if analog[int(predictions[i])]==gt.iloc[i]:\n",
    "            c=c+1\n",
    "        else:\n",
    "            ic=ic+1\n",
    "    accuracy=(c/r)*100\n",
    "    return accuracy \n",
    "\n",
    "        "
   ]
  },
  {
   "cell_type": "code",
   "execution_count": 21,
   "metadata": {},
   "outputs": [
    {
     "name": "stdout",
     "output_type": "stream",
     "text": [
      "[('petal_length', 2.45, [33, 38, 34]), {'l': [(['no_split'], 0, [33, 0, 0]), {}], 'r': [('petal_width', 1.75, [0, 38, 34]), {'l': [('petal_length', 4.95, [0, 38, 5]), {'l': [('petal_width', 1.65, [0, 36, 1]), {'l': [(['no_split'], 0, [0, 36, 0]), {}], 'r': [(['no_split'], 0, [0, 0, 1]), {}]}], 'r': [('sepal_width', 2.6500000000000004, [0, 2, 4]), {'l': [(['no_split'], 0, [0, 0, 2]), {}], 'r': [(['no_split'], 0, [0, 2, 2]), {}]}]}], 'r': [(['no_split'], 0, [0, 0, 29]), {}]}]}]\n",
      "97.77777777777777\n"
     ]
    }
   ],
   "source": [
    "data1=pd.read_csv('iris_dataset.csv')\n",
    "\n",
    "iris_dataset=data1.loc[:,['sepal length','sepal width','petal length','petal width','iris']]\n",
    "iris_dataset.columns=['sepal_length','sepal_width','petal_length','petal_width','iris']\n",
    "\n",
    "\n",
    "shuf=iris_dataset.sample(frac=1).reset_index(drop=True)\n",
    "\n",
    "\n",
    "def divide_data(data,train_percent):\n",
    "    r,_=data.shape\n",
    "    dr=int(r*(train_percent/100))\n",
    "    train_data=data[:dr]\n",
    "    test_data=data[dr:]\n",
    "    return (train_data,test_data)\n",
    "\n",
    "(tr_d,test_d)=divide_data(shuf,70)\n",
    "\n",
    "model= tree_learning(tr_d,4,tr_d)\n",
    "print(model)\n",
    "pred_set=prediction(test_d,model)\n",
    "print(accuracy(test_d,pred_set,tr_d))    \n"
   ]
  },
  {
   "cell_type": "markdown",
   "metadata": {},
   "source": [
    "# Q2(c)"
   ]
  },
  {
   "cell_type": "code",
   "execution_count": 13,
   "metadata": {},
   "outputs": [
    {
     "name": "stdout",
     "output_type": "stream",
     "text": [
      "[[ 1.         54.83870968]\n",
      " [ 2.         90.32258065]\n",
      " [ 3.         96.77419355]\n",
      " [ 4.         90.32258065]\n",
      " [ 5.         90.32258065]\n",
      " [ 6.         90.32258065]\n",
      " [ 7.         90.32258065]\n",
      " [ 8.         90.32258065]\n",
      " [ 9.         90.32258065]]\n"
     ]
    },
    {
     "ename": "IndexError",
     "evalue": "index -1 is out of bounds for axis 0 with size 0",
     "output_type": "error",
     "traceback": [
      "\u001b[0;31m---------------------------------------------------------------------------\u001b[0m",
      "\u001b[0;31mIndexError\u001b[0m                                Traceback (most recent call last)",
      "\u001b[0;32m<ipython-input-13-60d965aaafe6>\u001b[0m in \u001b[0;36m<module>\u001b[0;34m\u001b[0m\n\u001b[1;32m     21\u001b[0m \u001b[0;34m\u001b[0m\u001b[0m\n\u001b[1;32m     22\u001b[0m     \u001b[0;32mfor\u001b[0m \u001b[0mdepth\u001b[0m \u001b[0;32min\u001b[0m \u001b[0mrange\u001b[0m \u001b[0;34m(\u001b[0m\u001b[0;36m0\u001b[0m\u001b[0;34m,\u001b[0m\u001b[0;36m9\u001b[0m\u001b[0;34m)\u001b[0m\u001b[0;34m:\u001b[0m\u001b[0;34m\u001b[0m\u001b[0;34m\u001b[0m\u001b[0m\n\u001b[0;32m---> 23\u001b[0;31m         \u001b[0mmodel\u001b[0m\u001b[0;34m=\u001b[0m \u001b[0mtree_learning\u001b[0m\u001b[0;34m(\u001b[0m\u001b[0mtrain_d\u001b[0m\u001b[0;34m,\u001b[0m\u001b[0mdepth\u001b[0m\u001b[0;34m+\u001b[0m\u001b[0;36m1\u001b[0m\u001b[0;34m,\u001b[0m\u001b[0mtrain_d\u001b[0m\u001b[0;34m)\u001b[0m\u001b[0;34m\u001b[0m\u001b[0;34m\u001b[0m\u001b[0m\n\u001b[0m\u001b[1;32m     24\u001b[0m         \u001b[0mpred_set\u001b[0m\u001b[0;34m=\u001b[0m\u001b[0mprediction\u001b[0m\u001b[0;34m(\u001b[0m\u001b[0mval_d\u001b[0m\u001b[0;34m,\u001b[0m\u001b[0mmodel\u001b[0m\u001b[0;34m)\u001b[0m\u001b[0;34m\u001b[0m\u001b[0;34m\u001b[0m\u001b[0m\n\u001b[1;32m     25\u001b[0m         \u001b[0maccu\u001b[0m\u001b[0;34m=\u001b[0m\u001b[0maccuracy\u001b[0m\u001b[0;34m(\u001b[0m\u001b[0mval_d\u001b[0m\u001b[0;34m,\u001b[0m\u001b[0mpred_set\u001b[0m\u001b[0;34m,\u001b[0m\u001b[0mtrain_d\u001b[0m\u001b[0;34m)\u001b[0m\u001b[0;34m\u001b[0m\u001b[0;34m\u001b[0m\u001b[0m\n",
      "\u001b[0;32m<ipython-input-2-95740662df78>\u001b[0m in \u001b[0;36mtree_learning\u001b[0;34m(data, depth, main_data)\u001b[0m\n\u001b[1;32m     68\u001b[0m             \u001b[0mrn\u001b[0m\u001b[0;34m=\u001b[0m\u001b[0mdata\u001b[0m\u001b[0;34m[\u001b[0m\u001b[0mdata\u001b[0m\u001b[0;34m[\u001b[0m\u001b[0mbs\u001b[0m\u001b[0;34m[\u001b[0m\u001b[0;36m0\u001b[0m\u001b[0;34m]\u001b[0m\u001b[0;34m]\u001b[0m\u001b[0;34m>\u001b[0m\u001b[0mbs\u001b[0m\u001b[0;34m[\u001b[0m\u001b[0;36m1\u001b[0m\u001b[0;34m]\u001b[0m\u001b[0;34m]\u001b[0m\u001b[0;34m\u001b[0m\u001b[0;34m\u001b[0m\u001b[0m\n\u001b[1;32m     69\u001b[0m             \u001b[0mt\u001b[0m\u001b[0;34m[\u001b[0m\u001b[0;34m'l'\u001b[0m\u001b[0;34m]\u001b[0m\u001b[0;34m=\u001b[0m\u001b[0mtree_learning\u001b[0m\u001b[0;34m(\u001b[0m\u001b[0mln\u001b[0m\u001b[0;34m,\u001b[0m\u001b[0mdepth\u001b[0m\u001b[0;34m,\u001b[0m\u001b[0mmain_data\u001b[0m\u001b[0;34m)\u001b[0m\u001b[0;34m\u001b[0m\u001b[0;34m\u001b[0m\u001b[0m\n\u001b[0;32m---> 70\u001b[0;31m             \u001b[0mt\u001b[0m\u001b[0;34m[\u001b[0m\u001b[0;34m'r'\u001b[0m\u001b[0;34m]\u001b[0m\u001b[0;34m=\u001b[0m\u001b[0mtree_learning\u001b[0m\u001b[0;34m(\u001b[0m\u001b[0mrn\u001b[0m\u001b[0;34m,\u001b[0m\u001b[0mdepth\u001b[0m\u001b[0;34m,\u001b[0m\u001b[0mmain_data\u001b[0m\u001b[0;34m)\u001b[0m\u001b[0;34m\u001b[0m\u001b[0;34m\u001b[0m\u001b[0m\n\u001b[0m\u001b[1;32m     71\u001b[0m             \u001b[0;32mreturn\u001b[0m \u001b[0;34m[\u001b[0m\u001b[0mbs\u001b[0m\u001b[0;34m,\u001b[0m\u001b[0mt\u001b[0m\u001b[0;34m]\u001b[0m\u001b[0;34m\u001b[0m\u001b[0;34m\u001b[0m\u001b[0m\n\u001b[1;32m     72\u001b[0m         \u001b[0;32melse\u001b[0m\u001b[0;34m:\u001b[0m\u001b[0;34m\u001b[0m\u001b[0;34m\u001b[0m\u001b[0m\n",
      "\u001b[0;32m<ipython-input-2-95740662df78>\u001b[0m in \u001b[0;36mtree_learning\u001b[0;34m(data, depth, main_data)\u001b[0m\n\u001b[1;32m     67\u001b[0m             \u001b[0mln\u001b[0m\u001b[0;34m=\u001b[0m\u001b[0mdata\u001b[0m\u001b[0;34m[\u001b[0m\u001b[0mdata\u001b[0m\u001b[0;34m[\u001b[0m\u001b[0mbs\u001b[0m\u001b[0;34m[\u001b[0m\u001b[0;36m0\u001b[0m\u001b[0;34m]\u001b[0m\u001b[0;34m]\u001b[0m\u001b[0;34m<=\u001b[0m\u001b[0mbs\u001b[0m\u001b[0;34m[\u001b[0m\u001b[0;36m1\u001b[0m\u001b[0;34m]\u001b[0m\u001b[0;34m]\u001b[0m\u001b[0;34m\u001b[0m\u001b[0;34m\u001b[0m\u001b[0m\n\u001b[1;32m     68\u001b[0m             \u001b[0mrn\u001b[0m\u001b[0;34m=\u001b[0m\u001b[0mdata\u001b[0m\u001b[0;34m[\u001b[0m\u001b[0mdata\u001b[0m\u001b[0;34m[\u001b[0m\u001b[0mbs\u001b[0m\u001b[0;34m[\u001b[0m\u001b[0;36m0\u001b[0m\u001b[0;34m]\u001b[0m\u001b[0;34m]\u001b[0m\u001b[0;34m>\u001b[0m\u001b[0mbs\u001b[0m\u001b[0;34m[\u001b[0m\u001b[0;36m1\u001b[0m\u001b[0;34m]\u001b[0m\u001b[0;34m]\u001b[0m\u001b[0;34m\u001b[0m\u001b[0;34m\u001b[0m\u001b[0m\n\u001b[0;32m---> 69\u001b[0;31m             \u001b[0mt\u001b[0m\u001b[0;34m[\u001b[0m\u001b[0;34m'l'\u001b[0m\u001b[0;34m]\u001b[0m\u001b[0;34m=\u001b[0m\u001b[0mtree_learning\u001b[0m\u001b[0;34m(\u001b[0m\u001b[0mln\u001b[0m\u001b[0;34m,\u001b[0m\u001b[0mdepth\u001b[0m\u001b[0;34m,\u001b[0m\u001b[0mmain_data\u001b[0m\u001b[0;34m)\u001b[0m\u001b[0;34m\u001b[0m\u001b[0;34m\u001b[0m\u001b[0m\n\u001b[0m\u001b[1;32m     70\u001b[0m             \u001b[0mt\u001b[0m\u001b[0;34m[\u001b[0m\u001b[0;34m'r'\u001b[0m\u001b[0;34m]\u001b[0m\u001b[0;34m=\u001b[0m\u001b[0mtree_learning\u001b[0m\u001b[0;34m(\u001b[0m\u001b[0mrn\u001b[0m\u001b[0;34m,\u001b[0m\u001b[0mdepth\u001b[0m\u001b[0;34m,\u001b[0m\u001b[0mmain_data\u001b[0m\u001b[0;34m)\u001b[0m\u001b[0;34m\u001b[0m\u001b[0;34m\u001b[0m\u001b[0m\n\u001b[1;32m     71\u001b[0m             \u001b[0;32mreturn\u001b[0m \u001b[0;34m[\u001b[0m\u001b[0mbs\u001b[0m\u001b[0;34m,\u001b[0m\u001b[0mt\u001b[0m\u001b[0;34m]\u001b[0m\u001b[0;34m\u001b[0m\u001b[0;34m\u001b[0m\u001b[0m\n",
      "\u001b[0;32m<ipython-input-2-95740662df78>\u001b[0m in \u001b[0;36mtree_learning\u001b[0;34m(data, depth, main_data)\u001b[0m\n\u001b[1;32m     68\u001b[0m             \u001b[0mrn\u001b[0m\u001b[0;34m=\u001b[0m\u001b[0mdata\u001b[0m\u001b[0;34m[\u001b[0m\u001b[0mdata\u001b[0m\u001b[0;34m[\u001b[0m\u001b[0mbs\u001b[0m\u001b[0;34m[\u001b[0m\u001b[0;36m0\u001b[0m\u001b[0;34m]\u001b[0m\u001b[0;34m]\u001b[0m\u001b[0;34m>\u001b[0m\u001b[0mbs\u001b[0m\u001b[0;34m[\u001b[0m\u001b[0;36m1\u001b[0m\u001b[0;34m]\u001b[0m\u001b[0;34m]\u001b[0m\u001b[0;34m\u001b[0m\u001b[0;34m\u001b[0m\u001b[0m\n\u001b[1;32m     69\u001b[0m             \u001b[0mt\u001b[0m\u001b[0;34m[\u001b[0m\u001b[0;34m'l'\u001b[0m\u001b[0;34m]\u001b[0m\u001b[0;34m=\u001b[0m\u001b[0mtree_learning\u001b[0m\u001b[0;34m(\u001b[0m\u001b[0mln\u001b[0m\u001b[0;34m,\u001b[0m\u001b[0mdepth\u001b[0m\u001b[0;34m,\u001b[0m\u001b[0mmain_data\u001b[0m\u001b[0;34m)\u001b[0m\u001b[0;34m\u001b[0m\u001b[0;34m\u001b[0m\u001b[0m\n\u001b[0;32m---> 70\u001b[0;31m             \u001b[0mt\u001b[0m\u001b[0;34m[\u001b[0m\u001b[0;34m'r'\u001b[0m\u001b[0;34m]\u001b[0m\u001b[0;34m=\u001b[0m\u001b[0mtree_learning\u001b[0m\u001b[0;34m(\u001b[0m\u001b[0mrn\u001b[0m\u001b[0;34m,\u001b[0m\u001b[0mdepth\u001b[0m\u001b[0;34m,\u001b[0m\u001b[0mmain_data\u001b[0m\u001b[0;34m)\u001b[0m\u001b[0;34m\u001b[0m\u001b[0;34m\u001b[0m\u001b[0m\n\u001b[0m\u001b[1;32m     71\u001b[0m             \u001b[0;32mreturn\u001b[0m \u001b[0;34m[\u001b[0m\u001b[0mbs\u001b[0m\u001b[0;34m,\u001b[0m\u001b[0mt\u001b[0m\u001b[0;34m]\u001b[0m\u001b[0;34m\u001b[0m\u001b[0;34m\u001b[0m\u001b[0m\n\u001b[1;32m     72\u001b[0m         \u001b[0;32melse\u001b[0m\u001b[0;34m:\u001b[0m\u001b[0;34m\u001b[0m\u001b[0;34m\u001b[0m\u001b[0m\n",
      "\u001b[0;32m<ipython-input-2-95740662df78>\u001b[0m in \u001b[0;36mtree_learning\u001b[0;34m(data, depth, main_data)\u001b[0m\n\u001b[1;32m     67\u001b[0m             \u001b[0mln\u001b[0m\u001b[0;34m=\u001b[0m\u001b[0mdata\u001b[0m\u001b[0;34m[\u001b[0m\u001b[0mdata\u001b[0m\u001b[0;34m[\u001b[0m\u001b[0mbs\u001b[0m\u001b[0;34m[\u001b[0m\u001b[0;36m0\u001b[0m\u001b[0;34m]\u001b[0m\u001b[0;34m]\u001b[0m\u001b[0;34m<=\u001b[0m\u001b[0mbs\u001b[0m\u001b[0;34m[\u001b[0m\u001b[0;36m1\u001b[0m\u001b[0;34m]\u001b[0m\u001b[0;34m]\u001b[0m\u001b[0;34m\u001b[0m\u001b[0;34m\u001b[0m\u001b[0m\n\u001b[1;32m     68\u001b[0m             \u001b[0mrn\u001b[0m\u001b[0;34m=\u001b[0m\u001b[0mdata\u001b[0m\u001b[0;34m[\u001b[0m\u001b[0mdata\u001b[0m\u001b[0;34m[\u001b[0m\u001b[0mbs\u001b[0m\u001b[0;34m[\u001b[0m\u001b[0;36m0\u001b[0m\u001b[0;34m]\u001b[0m\u001b[0;34m]\u001b[0m\u001b[0;34m>\u001b[0m\u001b[0mbs\u001b[0m\u001b[0;34m[\u001b[0m\u001b[0;36m1\u001b[0m\u001b[0;34m]\u001b[0m\u001b[0;34m]\u001b[0m\u001b[0;34m\u001b[0m\u001b[0;34m\u001b[0m\u001b[0m\n\u001b[0;32m---> 69\u001b[0;31m             \u001b[0mt\u001b[0m\u001b[0;34m[\u001b[0m\u001b[0;34m'l'\u001b[0m\u001b[0;34m]\u001b[0m\u001b[0;34m=\u001b[0m\u001b[0mtree_learning\u001b[0m\u001b[0;34m(\u001b[0m\u001b[0mln\u001b[0m\u001b[0;34m,\u001b[0m\u001b[0mdepth\u001b[0m\u001b[0;34m,\u001b[0m\u001b[0mmain_data\u001b[0m\u001b[0;34m)\u001b[0m\u001b[0;34m\u001b[0m\u001b[0;34m\u001b[0m\u001b[0m\n\u001b[0m\u001b[1;32m     70\u001b[0m             \u001b[0mt\u001b[0m\u001b[0;34m[\u001b[0m\u001b[0;34m'r'\u001b[0m\u001b[0;34m]\u001b[0m\u001b[0;34m=\u001b[0m\u001b[0mtree_learning\u001b[0m\u001b[0;34m(\u001b[0m\u001b[0mrn\u001b[0m\u001b[0;34m,\u001b[0m\u001b[0mdepth\u001b[0m\u001b[0;34m,\u001b[0m\u001b[0mmain_data\u001b[0m\u001b[0;34m)\u001b[0m\u001b[0;34m\u001b[0m\u001b[0;34m\u001b[0m\u001b[0m\n\u001b[1;32m     71\u001b[0m             \u001b[0;32mreturn\u001b[0m \u001b[0;34m[\u001b[0m\u001b[0mbs\u001b[0m\u001b[0;34m,\u001b[0m\u001b[0mt\u001b[0m\u001b[0;34m]\u001b[0m\u001b[0;34m\u001b[0m\u001b[0;34m\u001b[0m\u001b[0m\n",
      "\u001b[0;32m<ipython-input-2-95740662df78>\u001b[0m in \u001b[0;36mtree_learning\u001b[0;34m(data, depth, main_data)\u001b[0m\n\u001b[1;32m     61\u001b[0m \u001b[0;34m\u001b[0m\u001b[0m\n\u001b[1;32m     62\u001b[0m \u001b[0;32mdef\u001b[0m \u001b[0mtree_learning\u001b[0m\u001b[0;34m(\u001b[0m\u001b[0mdata\u001b[0m\u001b[0;34m,\u001b[0m\u001b[0mdepth\u001b[0m\u001b[0;34m,\u001b[0m\u001b[0mmain_data\u001b[0m\u001b[0;34m)\u001b[0m\u001b[0;34m:\u001b[0m\u001b[0;34m\u001b[0m\u001b[0;34m\u001b[0m\u001b[0m\n\u001b[0;32m---> 63\u001b[0;31m         \u001b[0mbs\u001b[0m\u001b[0;34m=\u001b[0m\u001b[0mbest_split\u001b[0m\u001b[0;34m(\u001b[0m\u001b[0mdata\u001b[0m\u001b[0;34m,\u001b[0m\u001b[0mmain_data\u001b[0m\u001b[0;34m)\u001b[0m\u001b[0;34m\u001b[0m\u001b[0;34m\u001b[0m\u001b[0m\n\u001b[0m\u001b[1;32m     64\u001b[0m         \u001b[0mt\u001b[0m\u001b[0;34m=\u001b[0m\u001b[0mdict\u001b[0m\u001b[0;34m(\u001b[0m\u001b[0;34m)\u001b[0m\u001b[0;34m\u001b[0m\u001b[0;34m\u001b[0m\u001b[0m\n\u001b[1;32m     65\u001b[0m         \u001b[0;32mif\u001b[0m \u001b[0mdepth\u001b[0m\u001b[0;34m>\u001b[0m\u001b[0;36m0\u001b[0m \u001b[0;32mand\u001b[0m \u001b[0mbs\u001b[0m\u001b[0;34m[\u001b[0m\u001b[0;36m0\u001b[0m\u001b[0;34m]\u001b[0m\u001b[0;34m!=\u001b[0m\u001b[0;34m'no_split'\u001b[0m\u001b[0;34m:\u001b[0m\u001b[0;34m\u001b[0m\u001b[0;34m\u001b[0m\u001b[0m\n",
      "\u001b[0;32m<ipython-input-2-95740662df78>\u001b[0m in \u001b[0;36mbest_split\u001b[0;34m(data, main_data)\u001b[0m\n\u001b[1;32m     49\u001b[0m \u001b[0;34m\u001b[0m\u001b[0m\n\u001b[1;32m     50\u001b[0m             \u001b[0mmax_infg_index\u001b[0m\u001b[0;34m=\u001b[0m\u001b[0minfo_gain\u001b[0m\u001b[0;34m.\u001b[0m\u001b[0mindex\u001b[0m\u001b[0;34m(\u001b[0m\u001b[0mmax\u001b[0m\u001b[0;34m(\u001b[0m\u001b[0minfo_gain\u001b[0m\u001b[0;34m)\u001b[0m\u001b[0;34m)\u001b[0m\u001b[0;34m-\u001b[0m\u001b[0;36m1\u001b[0m\u001b[0;34m\u001b[0m\u001b[0;34m\u001b[0m\u001b[0m\n\u001b[0;32m---> 51\u001b[0;31m             \u001b[0mbs_ec\u001b[0m\u001b[0;34m.\u001b[0m\u001b[0mappend\u001b[0m\u001b[0;34m(\u001b[0m\u001b[0;34m(\u001b[0m\u001b[0mdcol\u001b[0m\u001b[0;34m[\u001b[0m\u001b[0mi\u001b[0m\u001b[0;34m]\u001b[0m \u001b[0;34m,\u001b[0m\u001b[0mcoli_uni_avg\u001b[0m\u001b[0;34m[\u001b[0m\u001b[0mmax_infg_index\u001b[0m\u001b[0;34m]\u001b[0m\u001b[0;34m,\u001b[0m\u001b[0marray\u001b[0m\u001b[0;34m)\u001b[0m\u001b[0;34m)\u001b[0m\u001b[0;34m\u001b[0m\u001b[0;34m\u001b[0m\u001b[0m\n\u001b[0m\u001b[1;32m     52\u001b[0m             \u001b[0mmax_infg_ec\u001b[0m\u001b[0;34m.\u001b[0m\u001b[0mappend\u001b[0m\u001b[0;34m(\u001b[0m\u001b[0minfo_gain\u001b[0m\u001b[0;34m[\u001b[0m\u001b[0mmax_infg_index\u001b[0m\u001b[0;34m]\u001b[0m\u001b[0;34m)\u001b[0m\u001b[0;34m\u001b[0m\u001b[0;34m\u001b[0m\u001b[0m\n\u001b[1;32m     53\u001b[0m \u001b[0;34m\u001b[0m\u001b[0m\n",
      "\u001b[0;31mIndexError\u001b[0m: index -1 is out of bounds for axis 0 with size 0"
     ]
    }
   ],
   "source": [
    "# 5 FOLD CROSS VALIDATION\n",
    "main_data=shuf\n",
    "r=len(main_data)\n",
    "k=5\n",
    "r_ds=int(r/k)\n",
    "datasets=np.array([None]*k)\n",
    "for i in range (0,k):\n",
    "    datasets[i]=main_data.loc[i*r_ds:(i+1)*r_ds]\n",
    "    if i==4:\n",
    "        datasets[i]=main_data.loc[i*r_ds:]\n",
    "\n",
    "for j in range (0,k):\n",
    "    d_f=np.roll(datasets,j)\n",
    "    d_f[0]=pd.DataFrame(d_f[0])\n",
    "    d_f[1]=pd.DataFrame(d_f[1])\n",
    "    d_f[2]=pd.DataFrame(d_f[2])\n",
    "    train_d=pd.concat([d_f[0],d_f[1],d_f[2]])\n",
    "    val_d=pd.DataFrame(d_f[3])\n",
    "    te_d=pd.DataFrame(d_f[4])\n",
    "    depth_accu=np.zeros((9,2))\n",
    "\n",
    "    for depth in range (0,9):\n",
    "        model= tree_learning(train_d,depth+1,train_d)\n",
    "        pred_set=prediction(val_d,model)\n",
    "        accu=accuracy(val_d,pred_set,train_d)\n",
    "        depth_accu[depth,0]=depth+1\n",
    "        depth_accu[depth,1]=accu\n",
    "    print(depth_accu)\n",
    "        \n",
    "    \n",
    "\n",
    "\n"
   ]
  },
  {
   "cell_type": "markdown",
   "metadata": {},
   "source": [
    "# Q3"
   ]
  },
  {
   "cell_type": "code",
   "execution_count": 9,
   "metadata": {},
   "outputs": [],
   "source": [
    "r_est_price1=pd.read_excel('Real_estate_valuation_data_set.xlsx')\n",
    "r_est_price=r_est_price1.loc[:,['X1 transaction date', 'X2 house age',\n",
    "       'X3 distance to the nearest MRT station',\n",
    "       'X4 number of convenience stores', 'X5 latitude', 'X6 longitude',\n",
    "       'Y house price of unit area']]\n",
    "r_est_price.columns=['X1', 'X2',\n",
    "       'X3',\n",
    "       'X4', 'X5', 'X6',\n",
    "       'Y']"
   ]
  },
  {
   "cell_type": "code",
   "execution_count": 10,
   "metadata": {},
   "outputs": [],
   "source": [
    "def testing_regressor(test_row,model):\n",
    "    a=model[0]\n",
    "    dic=model[1]\n",
    "    if a[0]== ['no_split']:\n",
    "        return a[2]\n",
    "    else:\n",
    "        if test_row[a[0]]<a[1]:\n",
    "            return testing_regressor(test_row,dic['l'])\n",
    "        else :\n",
    "            return testing_regressor(test_row,dic['r'])\n",
    "\n",
    "def prediction_regressor(test_data,model):\n",
    "    r=len(test_data)\n",
    "    predictions=[]\n",
    "    for i in range (0,r):\n",
    "        test_row=test_data.iloc[i]       \n",
    "        pred=testing_regressor(test_row,model)\n",
    "        predictions.append(pred)\n",
    "    return predictions\n",
    "\n",
    "def accuracy_regressor(test_data,predictions):\n",
    "    dcol=test_data.columns\n",
    "    r,_=test_data.shape\n",
    "    gt=test_data[test_data.columns[-1]]\n",
    "    \n",
    "    se=0\n",
    "    for i in range (0,r):\n",
    "        k=(predictions[i]-gt[i])**2\n",
    "        se=se+k\n",
    "    mse=se/r\n",
    "    rmse=math.sqrt(mse)\n",
    "    return rmse\n",
    "\n"
   ]
  },
  {
   "cell_type": "code",
   "execution_count": 12,
   "metadata": {},
   "outputs": [
    {
     "name": "stdout",
     "output_type": "stream",
     "text": [
      "14.672397042836579\n"
     ]
    }
   ],
   "source": [
    "shuf_reg=r_est_price.sample(frac=1).reset_index(drop=True)\n",
    "\n",
    "\n",
    "def divide_data(data,train_percent):\n",
    "    r,_=data.shape\n",
    "    dr=int(r*(train_percent/100))\n",
    "    train_data=data[:dr].reset_index(drop=True)\n",
    "    test_data=data[dr:].reset_index(drop=True)\n",
    "    return (train_data,test_data)\n",
    "\n",
    "(tr_d,test_d)=divide_data(shuf_reg,70)\n",
    "\n",
    "model=tree_learning_regressor(tr_d,3,tr_d)\n",
    "pred_set_reg=prediction_regressor(test_d,model)\n",
    "print(accuracy_regressor(test_d,pred_set_reg))\n"
   ]
  },
  {
   "cell_type": "markdown",
   "metadata": {},
   "source": [
    "# Q4"
   ]
  },
  {
   "cell_type": "code",
   "execution_count": 444,
   "metadata": {},
   "outputs": [
    {
     "data": {
      "text/html": [
       "<div>\n",
       "<style scoped>\n",
       "    .dataframe tbody tr th:only-of-type {\n",
       "        vertical-align: middle;\n",
       "    }\n",
       "\n",
       "    .dataframe tbody tr th {\n",
       "        vertical-align: top;\n",
       "    }\n",
       "\n",
       "    .dataframe thead th {\n",
       "        text-align: right;\n",
       "    }\n",
       "</style>\n",
       "<table border=\"1\" class=\"dataframe\">\n",
       "  <thead>\n",
       "    <tr style=\"text-align: right;\">\n",
       "      <th></th>\n",
       "      <th>No</th>\n",
       "      <th>X1 transaction date</th>\n",
       "      <th>X2 house age</th>\n",
       "      <th>X3 distance to the nearest MRT station</th>\n",
       "      <th>X4 number of convenience stores</th>\n",
       "      <th>X5 latitude</th>\n",
       "      <th>X6 longitude</th>\n",
       "      <th>Y house price of unit area</th>\n",
       "    </tr>\n",
       "  </thead>\n",
       "  <tbody>\n",
       "    <tr>\n",
       "      <th>count</th>\n",
       "      <td>414.000000</td>\n",
       "      <td>414.000000</td>\n",
       "      <td>414.000000</td>\n",
       "      <td>414.000000</td>\n",
       "      <td>414.000000</td>\n",
       "      <td>414.000000</td>\n",
       "      <td>414.000000</td>\n",
       "      <td>414.000000</td>\n",
       "    </tr>\n",
       "    <tr>\n",
       "      <th>mean</th>\n",
       "      <td>207.500000</td>\n",
       "      <td>2013.148953</td>\n",
       "      <td>17.712560</td>\n",
       "      <td>1083.885689</td>\n",
       "      <td>4.094203</td>\n",
       "      <td>24.969030</td>\n",
       "      <td>121.533361</td>\n",
       "      <td>37.980193</td>\n",
       "    </tr>\n",
       "    <tr>\n",
       "      <th>std</th>\n",
       "      <td>119.655756</td>\n",
       "      <td>0.281995</td>\n",
       "      <td>11.392485</td>\n",
       "      <td>1262.109595</td>\n",
       "      <td>2.945562</td>\n",
       "      <td>0.012410</td>\n",
       "      <td>0.015347</td>\n",
       "      <td>13.606488</td>\n",
       "    </tr>\n",
       "    <tr>\n",
       "      <th>min</th>\n",
       "      <td>1.000000</td>\n",
       "      <td>2012.666667</td>\n",
       "      <td>0.000000</td>\n",
       "      <td>23.382840</td>\n",
       "      <td>0.000000</td>\n",
       "      <td>24.932070</td>\n",
       "      <td>121.473530</td>\n",
       "      <td>7.600000</td>\n",
       "    </tr>\n",
       "    <tr>\n",
       "      <th>25%</th>\n",
       "      <td>104.250000</td>\n",
       "      <td>2012.916667</td>\n",
       "      <td>9.025000</td>\n",
       "      <td>289.324800</td>\n",
       "      <td>1.000000</td>\n",
       "      <td>24.963000</td>\n",
       "      <td>121.528085</td>\n",
       "      <td>27.700000</td>\n",
       "    </tr>\n",
       "    <tr>\n",
       "      <th>50%</th>\n",
       "      <td>207.500000</td>\n",
       "      <td>2013.166667</td>\n",
       "      <td>16.100000</td>\n",
       "      <td>492.231300</td>\n",
       "      <td>4.000000</td>\n",
       "      <td>24.971100</td>\n",
       "      <td>121.538630</td>\n",
       "      <td>38.450000</td>\n",
       "    </tr>\n",
       "    <tr>\n",
       "      <th>75%</th>\n",
       "      <td>310.750000</td>\n",
       "      <td>2013.416667</td>\n",
       "      <td>28.150000</td>\n",
       "      <td>1454.279000</td>\n",
       "      <td>6.000000</td>\n",
       "      <td>24.977455</td>\n",
       "      <td>121.543305</td>\n",
       "      <td>46.600000</td>\n",
       "    </tr>\n",
       "    <tr>\n",
       "      <th>max</th>\n",
       "      <td>414.000000</td>\n",
       "      <td>2013.583333</td>\n",
       "      <td>43.800000</td>\n",
       "      <td>6488.021000</td>\n",
       "      <td>10.000000</td>\n",
       "      <td>25.014590</td>\n",
       "      <td>121.566270</td>\n",
       "      <td>117.500000</td>\n",
       "    </tr>\n",
       "  </tbody>\n",
       "</table>\n",
       "</div>"
      ],
      "text/plain": [
       "               No  X1 transaction date  X2 house age  \\\n",
       "count  414.000000           414.000000    414.000000   \n",
       "mean   207.500000          2013.148953     17.712560   \n",
       "std    119.655756             0.281995     11.392485   \n",
       "min      1.000000          2012.666667      0.000000   \n",
       "25%    104.250000          2012.916667      9.025000   \n",
       "50%    207.500000          2013.166667     16.100000   \n",
       "75%    310.750000          2013.416667     28.150000   \n",
       "max    414.000000          2013.583333     43.800000   \n",
       "\n",
       "       X3 distance to the nearest MRT station  \\\n",
       "count                              414.000000   \n",
       "mean                              1083.885689   \n",
       "std                               1262.109595   \n",
       "min                                 23.382840   \n",
       "25%                                289.324800   \n",
       "50%                                492.231300   \n",
       "75%                               1454.279000   \n",
       "max                               6488.021000   \n",
       "\n",
       "       X4 number of convenience stores  X5 latitude  X6 longitude  \\\n",
       "count                       414.000000   414.000000    414.000000   \n",
       "mean                          4.094203    24.969030    121.533361   \n",
       "std                           2.945562     0.012410      0.015347   \n",
       "min                           0.000000    24.932070    121.473530   \n",
       "25%                           1.000000    24.963000    121.528085   \n",
       "50%                           4.000000    24.971100    121.538630   \n",
       "75%                           6.000000    24.977455    121.543305   \n",
       "max                          10.000000    25.014590    121.566270   \n",
       "\n",
       "       Y house price of unit area  \n",
       "count                  414.000000  \n",
       "mean                    37.980193  \n",
       "std                     13.606488  \n",
       "min                      7.600000  \n",
       "25%                     27.700000  \n",
       "50%                     38.450000  \n",
       "75%                     46.600000  \n",
       "max                    117.500000  "
      ]
     },
     "execution_count": 444,
     "metadata": {},
     "output_type": "execute_result"
    }
   ],
   "source": [
    "from sklearn.tree import DecisionTreeRegressor\n",
    "from sklearn.model_selection import train_test_split\n",
    "\n",
    "\n",
    "data = pd.read_excel('Real_estate_valuation_data_set.xlsx')\n",
    "data.describe()"
   ]
  },
  {
   "cell_type": "code",
   "execution_count": 445,
   "metadata": {},
   "outputs": [],
   "source": [
    "columns = [\"X2 house age\",\"X3 distance to the nearest MRT station\",\"X4 number of convenience stores\",\"X5 latitude\",\"X6 longitude\"]\n",
    "data_features = data[columns]\n",
    "y = data[\"Y house price of unit area\"]"
   ]
  },
  {
   "cell_type": "code",
   "execution_count": 446,
   "metadata": {},
   "outputs": [],
   "source": [
    "train_x,test_x,train_y,test_y = train_test_split(data,y,random_state= 564)"
   ]
  },
  {
   "cell_type": "code",
   "execution_count": 447,
   "metadata": {},
   "outputs": [
    {
     "data": {
      "text/plain": [
       "DecisionTreeRegressor(criterion='mse', max_depth=None, max_features=None,\n",
       "           max_leaf_nodes=None, min_impurity_decrease=0.0,\n",
       "           min_impurity_split=None, min_samples_leaf=1,\n",
       "           min_samples_split=2, min_weight_fraction_leaf=0.0,\n",
       "           presort=False, random_state=None, splitter='best')"
      ]
     },
     "execution_count": 447,
     "metadata": {},
     "output_type": "execute_result"
    }
   ],
   "source": [
    "model = DecisionTreeRegressor()\n",
    "model.fit(train_x,train_y)"
   ]
  },
  {
   "cell_type": "code",
   "execution_count": 448,
   "metadata": {},
   "outputs": [],
   "source": [
    "predicted = model.predict(test_x)\n",
    "test_y=test_y.reset_index(drop=True)"
   ]
  },
  {
   "cell_type": "code",
   "execution_count": 450,
   "metadata": {},
   "outputs": [
    {
     "name": "stdout",
     "output_type": "stream",
     "text": [
      "1.1203965644085405\n"
     ]
    }
   ],
   "source": [
    "root_mean_se=0\n",
    "for i in range (0,len(predicted)):\n",
    "    k=(predicted[i]-test_y[i])**2\n",
    "    root_mean_se=root_mean_se+k\n",
    "    \n",
    "print(math.sqrt(root_mean_se/len(predicted)))"
   ]
  },
  {
   "cell_type": "markdown",
   "metadata": {},
   "source": [
    "Compared to the one executed from scratch in which the root mean square error is 12.5, the decision tree made from scikitlearn performs way better with root mean square error of 1.12"
   ]
  },
  {
   "cell_type": "markdown",
   "metadata": {},
   "source": [
    "# Q6"
   ]
  },
  {
   "cell_type": "code",
   "execution_count": 435,
   "metadata": {},
   "outputs": [
    {
     "name": "stdout",
     "output_type": "stream",
     "text": [
      "('worst model accuracy', 67.61904761904762)\n",
      "('best model accuracy', 100.0)\n"
     ]
    }
   ],
   "source": [
    "data1=pd.read_csv('iris_dataset.csv')\n",
    "\n",
    "iris_dataset=data1.loc[:,['sepal length','sepal width','petal length','petal width','iris']]\n",
    "iris_dataset.columns=['sepal_length','sepal_width','petal_length','petal_width','iris']\n",
    "\n",
    "\n",
    "shuf=iris_dataset.sample(frac=1).reset_index(drop=True)\n",
    "\n",
    "\n",
    "def divide_data(data,train_percent):\n",
    "    r,_=data.shape\n",
    "    dr=int(r*(train_percent/100))\n",
    "    train_data=data[:dr]\n",
    "    test_data=data[dr:]\n",
    "    return (train_data,test_data)\n",
    "\n",
    "(tr_d,test_d)=divide_data(shuf,70)\n",
    "\n",
    "worst_model= tree_learning(tr_d,1,tr_d)  ##depth=1\n",
    "pred_set=prediction(tr_d,worst_model)\n",
    "print(('worst model accuracy',accuracy(tr_d,pred_set,tr_d)))    \n",
    "\n",
    "best_model= tree_learning(tr_d,5,tr_d)  ##depth=1\n",
    "pred_set=prediction(tr_d,best_model)\n",
    "print(('best model accuracy',accuracy(tr_d,pred_set,tr_d)))    \n"
   ]
  },
  {
   "cell_type": "markdown",
   "metadata": {},
   "source": [
    "# Q7"
   ]
  },
  {
   "cell_type": "code",
   "execution_count": 441,
   "metadata": {},
   "outputs": [],
   "source": [
    "def tree_learning(data,depth,main_data):\n",
    "        bs=best_split(data,main_data)\n",
    "        t=dict()\n",
    "        if depth>0 and bs[0]!='no_split':\n",
    "            depth=depth-1\n",
    "            ln=data[data[bs[0]]<=bs[1]]\n",
    "            rn=data[data[bs[0]]>bs[1]]\n",
    "            t['l']=tree_learning(ln,depth,main_data)\n",
    "            t['r']=tree_learning(rn,depth,main_data)\n",
    "            return [bs,t]\n",
    "        else:\n",
    "            return [(['no_split'],0,bs[2]),{}]\n",
    "def data_random(N,M):\n",
    "    data = np.random.rand(N,M)\n",
    "    y_label = []\n",
    "    for i in range(N):\n",
    "        y_label.append(random.choice([0,1]))\n",
    "    data = pd.DataFrame(data)\n",
    "    data[\"label\"] = pd.Series(y_label)\n",
    "    return data"
   ]
  },
  {
   "cell_type": "code",
   "execution_count": 442,
   "metadata": {},
   "outputs": [
    {
     "data": {
      "text/html": [
       "<div>\n",
       "<style scoped>\n",
       "    .dataframe tbody tr th:only-of-type {\n",
       "        vertical-align: middle;\n",
       "    }\n",
       "\n",
       "    .dataframe tbody tr th {\n",
       "        vertical-align: top;\n",
       "    }\n",
       "\n",
       "    .dataframe thead th {\n",
       "        text-align: right;\n",
       "    }\n",
       "</style>\n",
       "<table border=\"1\" class=\"dataframe\">\n",
       "  <thead>\n",
       "    <tr style=\"text-align: right;\">\n",
       "      <th></th>\n",
       "      <th>0</th>\n",
       "      <th>1</th>\n",
       "      <th>2</th>\n",
       "      <th>label</th>\n",
       "    </tr>\n",
       "  </thead>\n",
       "  <tbody>\n",
       "    <tr>\n",
       "      <th>0</th>\n",
       "      <td>0.760718</td>\n",
       "      <td>0.464340</td>\n",
       "      <td>0.881708</td>\n",
       "      <td>0</td>\n",
       "    </tr>\n",
       "    <tr>\n",
       "      <th>1</th>\n",
       "      <td>0.103946</td>\n",
       "      <td>0.062973</td>\n",
       "      <td>0.006612</td>\n",
       "      <td>1</td>\n",
       "    </tr>\n",
       "  </tbody>\n",
       "</table>\n",
       "</div>"
      ],
      "text/plain": [
       "          0         1         2  label\n",
       "0  0.760718  0.464340  0.881708      0\n",
       "1  0.103946  0.062973  0.006612      1"
      ]
     },
     "execution_count": 442,
     "metadata": {},
     "output_type": "execute_result"
    }
   ],
   "source": [
    "data_random(2,3)"
   ]
  },
  {
   "cell_type": "code",
   "execution_count": 453,
   "metadata": {},
   "outputs": [],
   "source": [
    "trainingTimes = []\n",
    "predictingTimes = []\n",
    "for j in range(50,200):\n",
    "    TRAIN_DATA, TEST_DATA = train_test_split(data_random(j,5), test_size=0.3,random_state = 42)\n",
    "    learning_start=time.time()\n",
    "    model=tree_learning(TRAIN_DATA,2,TRAIN_DATA)\n",
    "    learning_stop=time.time()\n",
    "    learning_time=learning_stop-learning_start\n",
    "    \n",
    "    predict_time_start=time.time()\n",
    "    pred=prediction(TEST_DATA,model)\n",
    "    predict_time_stop=time.time()\n",
    "    predict_time=predict_time_stop-predict_time_start\n",
    "    \n",
    "    \n",
    "    trainingTimes.append(learning_time)\n",
    "    predictingTimes.append(predict_time)\n",
    "    \n",
    "    "
   ]
  },
  {
   "cell_type": "markdown",
   "metadata": {},
   "source": [
    "NOTE: THIS CODE IS TAKING A LONG TIME TO RUN. I KINDLY REQUEST TO PLEASE TAKE A LOOK AT THE ALGORITHM."
   ]
  },
  {
   "cell_type": "code",
   "execution_count": 454,
   "metadata": {},
   "outputs": [
    {
     "data": {
      "image/png": "[encoded data removed]",
      "text/plain": [
       "<Figure size 432x288 with 1 Axes>"
      ]
     },
     "metadata": {
      "needs_background": "light"
     },
     "output_type": "display_data"
    }
   ],
   "source": [
    "XLabel = range(50,200)\n",
    "plt.plot(XLabel , trainingTimes)\n",
    "plt.legend(['trainingTimes'])\n",
    "plt.show()"
   ]
  },
  {
   "cell_type": "code",
   "execution_count": 455,
   "metadata": {},
   "outputs": [
    {
     "data": {
      "image/png": "[encoded data removed]",
      "text/plain": [
       "<Figure size 432x288 with 1 Axes>"
      ]
     },
     "metadata": {
      "needs_background": "light"
     },
     "output_type": "display_data"
    }
   ],
   "source": [
    "plt.plot(XLabel, predictingTimes)\n",
    "plt.legend(['predictingTimes'])\n",
    "plt.show()"
   ]
  },
  {
   "cell_type": "code",
   "execution_count": null,
   "metadata": {},
   "outputs": [],
   "source": []
  }
 ],
 "metadata": {
  "kernelspec": {
   "display_name": "Python 3",
   "language": "python",
   "name": "python3"
  },
  "language_info": {
   "codemirror_mode": {
    "name": "ipython",
    "version": 3
   },
   "file_extension": ".py",
   "mimetype": "text/x-python",
   "name": "python",
   "nbconvert_exporter": "python",
   "pygments_lexer": "ipython3",
   "version": "3.6.7"
  }
 },
 "nbformat": 4,
 "nbformat_minor": 2
}
